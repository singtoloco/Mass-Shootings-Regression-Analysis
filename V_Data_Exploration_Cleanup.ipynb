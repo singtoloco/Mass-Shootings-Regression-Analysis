{
 "cells": [
  {
   "cell_type": "code",
   "execution_count": 2,
   "metadata": {},
   "outputs": [],
   "source": [
    "import pandas as pd"
   ]
  },
  {
   "cell_type": "markdown",
   "metadata": {},
   "source": [
    "## 2014"
   ]
  },
  {
   "cell_type": "code",
   "execution_count": 3,
   "metadata": {},
   "outputs": [],
   "source": [
    "df_gun_score_2014 = pd.read_csv('DataFiles/gunlaw_scorecard_2014.csv')"
   ]
  },
  {
   "cell_type": "code",
   "execution_count": 4,
   "metadata": {},
   "outputs": [],
   "source": [
    "df_gun_score_2014['GRADE number'] = \"\"\n",
    "\n",
    "for index, row in df_gun_score_2014.iterrows():\n",
    "    if row['2014 GRADE'] == 'A':\n",
    "        df_gun_score_2014.loc[index, 'GRADE number'] = 0\n",
    "    elif row['2014 GRADE'] == 'A-':\n",
    "        df_gun_score_2014.loc[index, 'GRADE number'] = 0.5\n",
    "    elif row['2014 GRADE'] == 'B+':\n",
    "        df_gun_score_2014.loc[index,'GRADE number'] = 1\n",
    "    elif row['2014 GRADE'] == 'B':\n",
    "        df_gun_score_2014.loc[index,'GRADE number'] = 1.5\n",
    "    elif row['2014 GRADE'] == 'B-':\n",
    "        df_gun_score_2014.loc[index,'GRADE number'] = 2\n",
    "    elif row['2014 GRADE'] == 'C+':\n",
    "        df_gun_score_2014.loc[index,'GRADE number'] = 2.5\n",
    "    elif row['2014 GRADE'] == 'C':\n",
    "        df_gun_score_2014.loc[index,'GRADE number'] = 3\n",
    "    elif row['2014 GRADE'] == 'C-':\n",
    "        df_gun_score_2014.loc[index,'GRADE number'] = 3.5\n",
    "    elif row['2014 GRADE'] == 'D+':\n",
    "        df_gun_score_2014.loc[index,'GRADE number'] = 4\n",
    "    elif row['2014 GRADE'] == 'D':\n",
    "        df_gun_score_2014.loc[index,'GRADE number'] = 4.5\n",
    "    elif row['2014 GRADE'] == 'D-':\n",
    "        df_gun_score_2014.loc[index,'GRADE number'] = 5\n",
    "    elif row['2014 GRADE'] == 'F':\n",
    "        df_gun_score_2014.loc[index,'GRADE number'] = 5.5    \n",
    "    else:\n",
    "        print('Warning!, something is wrong Dude!') "
   ]
  },
  {
   "cell_type": "code",
   "execution_count": 5,
   "metadata": {},
   "outputs": [],
   "source": [
    "df_gun_score_2014.to_csv('OutputFiles/Vanich/gunlaw_2014_grade_number.csv')"
   ]
  },
  {
   "cell_type": "markdown",
   "metadata": {},
   "source": [
    "## 2015"
   ]
  },
  {
   "cell_type": "code",
   "execution_count": 6,
   "metadata": {},
   "outputs": [],
   "source": [
    "df_gun_score_2015 = pd.read_csv('DataFiles/gunlaw_scorecard_2015.csv')"
   ]
  },
  {
   "cell_type": "code",
   "execution_count": 7,
   "metadata": {},
   "outputs": [],
   "source": [
    "df_gun_score_2015['GRADE number'] = \"\"\n",
    "\n",
    "for index, row in df_gun_score_2015.iterrows():\n",
    "    if row['2015 GRADE'] == 'A':\n",
    "        df_gun_score_2015.loc[index, 'GRADE number'] = 0\n",
    "    elif row['2015 GRADE'] == 'A-':\n",
    "        df_gun_score_2015.loc[index, 'GRADE number'] = 0.5\n",
    "    elif row['2015 GRADE'] == 'B+':\n",
    "        df_gun_score_2015.loc[index,'GRADE number'] = 1\n",
    "    elif row['2015 GRADE'] == 'B':\n",
    "        df_gun_score_2015.loc[index,'GRADE number'] = 1.5\n",
    "    elif row['2015 GRADE'] == 'B-':\n",
    "        df_gun_score_2015.loc[index,'GRADE number'] = 2\n",
    "    elif row['2015 GRADE'] == 'C+':\n",
    "        df_gun_score_2015.loc[index,'GRADE number'] = 2.5\n",
    "    elif row['2015 GRADE'] == 'C':\n",
    "        df_gun_score_2015.loc[index,'GRADE number'] = 3\n",
    "    elif row['2015 GRADE'] == 'C-':\n",
    "        df_gun_score_2015.loc[index,'GRADE number'] = 3.5\n",
    "    elif row['2015 GRADE'] == 'D+':\n",
    "        df_gun_score_2015.loc[index,'GRADE number'] = 4\n",
    "    elif row['2015 GRADE'] == 'D':\n",
    "        df_gun_score_2015.loc[index,'GRADE number'] = 4.5\n",
    "    elif row['2015 GRADE'] == 'D-':\n",
    "        df_gun_score_2015.loc[index,'GRADE number'] = 5\n",
    "    elif row['2015 GRADE'] == 'F':\n",
    "        df_gun_score_2015.loc[index,'GRADE number'] = 5.5    \n",
    "    else:\n",
    "        print('Warning!, something is wrong Dude!') "
   ]
  },
  {
   "cell_type": "code",
   "execution_count": 8,
   "metadata": {},
   "outputs": [],
   "source": [
    "df_gun_score_2015.to_csv('OutputFiles/Vanich/gunlaw_2015_grade_number.csv')"
   ]
  },
  {
   "cell_type": "markdown",
   "metadata": {},
   "source": [
    "## 2016"
   ]
  },
  {
   "cell_type": "code",
   "execution_count": 9,
   "metadata": {},
   "outputs": [],
   "source": [
    "df_gun_score_2016 = pd.read_csv('DataFiles/gunlaw_scorecard_2016.csv')"
   ]
  },
  {
   "cell_type": "code",
   "execution_count": 10,
   "metadata": {},
   "outputs": [],
   "source": [
    "df_gun_score_2016['GRADE number'] = \"\"\n",
    "\n",
    "for index, row in df_gun_score_2016.iterrows():\n",
    "    if row['2016 GRADE'] == 'A':\n",
    "        df_gun_score_2016.loc[index, 'GRADE number'] = 0\n",
    "    elif row['2016 GRADE'] == 'A-':\n",
    "        df_gun_score_2016.loc[index, 'GRADE number'] = 0.5\n",
    "    elif row['2016 GRADE'] == 'B+':\n",
    "        df_gun_score_2016.loc[index,'GRADE number'] = 1\n",
    "    elif row['2016 GRADE'] == 'B':\n",
    "        df_gun_score_2016.loc[index,'GRADE number'] = 1.5\n",
    "    elif row['2016 GRADE'] == 'B-':\n",
    "        df_gun_score_2016.loc[index,'GRADE number'] = 2\n",
    "    elif row['2016 GRADE'] == 'C+':\n",
    "        df_gun_score_2016.loc[index,'GRADE number'] = 2.5\n",
    "    elif row['2016 GRADE'] == 'C':\n",
    "        df_gun_score_2016.loc[index,'GRADE number'] = 3\n",
    "    elif row['2016 GRADE'] == 'C-':\n",
    "        df_gun_score_2016.loc[index,'GRADE number'] = 3.5\n",
    "    elif row['2016 GRADE'] == 'D+':\n",
    "        df_gun_score_2016.loc[index,'GRADE number'] = 4\n",
    "    elif row['2016 GRADE'] == 'D':\n",
    "        df_gun_score_2016.loc[index,'GRADE number'] = 4.5\n",
    "    elif row['2016 GRADE'] == 'D-':\n",
    "        df_gun_score_2016.loc[index,'GRADE number'] = 5\n",
    "    elif row['2016 GRADE'] == 'F':\n",
    "        df_gun_score_2016.loc[index,'GRADE number'] = 5.5    \n",
    "    else:\n",
    "        print('Warning!, something is wrong Dude!') "
   ]
  },
  {
   "cell_type": "code",
   "execution_count": 11,
   "metadata": {},
   "outputs": [],
   "source": [
    "df_gun_score_2016.to_csv('OutputFiles/Vanich/gunlaw_2016_grade_number.csv')"
   ]
  },
  {
   "cell_type": "markdown",
   "metadata": {},
   "source": [
    "## 2017"
   ]
  },
  {
   "cell_type": "code",
   "execution_count": 12,
   "metadata": {},
   "outputs": [],
   "source": [
    "df_gun_score_2017 = pd.read_csv('DataFiles/gunlaw_scorecard_2017.csv')"
   ]
  },
  {
   "cell_type": "code",
   "execution_count": 13,
   "metadata": {},
   "outputs": [],
   "source": [
    "df_gun_score_2017['GRADE number'] = \"\"\n",
    "\n",
    "for index, row in df_gun_score_2017.iterrows():\n",
    "    if row['2017 GRADE'] == 'A':\n",
    "        df_gun_score_2017.loc[index, 'GRADE number'] = 0\n",
    "    elif row['2017 GRADE'] == 'A-':\n",
    "        df_gun_score_2017.loc[index, 'GRADE number'] = 0.5\n",
    "    elif row['2017 GRADE'] == 'B+':\n",
    "        df_gun_score_2017.loc[index,'GRADE number'] = 1\n",
    "    elif row['2017 GRADE'] == 'B':\n",
    "        df_gun_score_2017.loc[index,'GRADE number'] = 1.5\n",
    "    elif row['2017 GRADE'] == 'B-':\n",
    "        df_gun_score_2017.loc[index,'GRADE number'] = 2\n",
    "    elif row['2017 GRADE'] == 'C+':\n",
    "        df_gun_score_2017.loc[index,'GRADE number'] = 2.5\n",
    "    elif row['2017 GRADE'] == 'C':\n",
    "        df_gun_score_2017.loc[index,'GRADE number'] = 3\n",
    "    elif row['2017 GRADE'] == 'C-':\n",
    "        df_gun_score_2017.loc[index,'GRADE number'] = 3.5\n",
    "    elif row['2017 GRADE'] == 'D+':\n",
    "        df_gun_score_2017.loc[index,'GRADE number'] = 4\n",
    "    elif row['2017 GRADE'] == 'D':\n",
    "        df_gun_score_2017.loc[index,'GRADE number'] = 4.5\n",
    "    elif row['2017 GRADE'] == 'D-':\n",
    "        df_gun_score_2017.loc[index,'GRADE number'] = 5\n",
    "    elif row['2017 GRADE'] == 'F':\n",
    "        df_gun_score_2017.loc[index,'GRADE number'] = 5.5    \n",
    "    else:\n",
    "        print('Warning!, something is wrong Dude!') "
   ]
  },
  {
   "cell_type": "code",
   "execution_count": 14,
   "metadata": {},
   "outputs": [],
   "source": [
    "df_gun_score_2017.to_csv('OutputFiles/Vanich/gunlaw_2017_grade_number.csv')"
   ]
  }
 ],
 "metadata": {
  "kernelspec": {
   "display_name": "Python 3",
   "language": "python",
   "name": "python3"
  },
  "language_info": {
   "codemirror_mode": {
    "name": "ipython",
    "version": 3
   },
   "file_extension": ".py",
   "mimetype": "text/x-python",
   "name": "python",
   "nbconvert_exporter": "python",
   "pygments_lexer": "ipython3",
   "version": "3.6.7"
  }
 },
 "nbformat": 4,
 "nbformat_minor": 2
}
